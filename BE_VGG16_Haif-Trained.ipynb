{
 "cells": [
  {
   "cell_type": "code",
   "execution_count": 1,
   "id": "7c49b61e",
   "metadata": {},
   "outputs": [],
   "source": [
    "import os\n",
    "import sys\n",
    "import datetime\n",
    "import glob as glob\n",
    "import numpy as np\n",
    "import cv2\n",
    "import keras\n",
    "from keras.models import Model, Sequential\n",
    "from keras.layers import Dense, GlobalAveragePooling2D, Flatten\n",
    "from keras.preprocessing.image import ImageDataGenerator\n",
    "import tensorflow as tf\n",
    "import pandas as pd\n",
    "import matplotlib.pyplot as plt\n",
    "%matplotlib inline\n",
    "from keras.applications.vgg16 import VGG16, preprocess_input\n",
    "from keras import layers, models\n",
    "from keras.optimizers import Adam, RMSprop, SGD\n",
    "from keras.callbacks import ReduceLROnPlateau, EarlyStopping\n",
    "\n",
    "from sklearn import svm\n",
    "from sklearn import metrics\n",
    "from sklearn.metrics import confusion_matrix\n",
    "import seaborn as sns"
   ]
  },
  {
   "cell_type": "markdown",
   "id": "2428a353",
   "metadata": {},
   "source": [
    "# CNN + SVM 3 - retrain last four layers (half the parameters)"
   ]
  },
  {
   "cell_type": "code",
   "execution_count": 2,
   "id": "d66a65ef",
   "metadata": {},
   "outputs": [
    {
     "name": "stdout",
     "output_type": "stream",
     "text": [
      "Found 300 images belonging to 2 classes.\n",
      "Found 100 images belonging to 2 classes.\n"
     ]
    }
   ],
   "source": [
    "from keras.preprocessing.image import ImageDataGenerator\n",
    "\n",
    "train_data_dir = 'Polyp_copy/train'\n",
    "validation_data_dir = 'Polyp_copy/validation'\n",
    "\n",
    "# Image generation \n",
    "train_datagen = ImageDataGenerator(\n",
    "     rescale=1./255,\n",
    "      rotation_range=45,\n",
    "      width_shift_range=0.3,\n",
    "     height_shift_range=0.3,\n",
    "      horizontal_flip=True,\n",
    "     fill_mode='nearest'\n",
    ")\n",
    " # Image generation \n",
    "\n",
    "validation_datagen = ImageDataGenerator(\n",
    "     rescale=1./255,\n",
    "     rotation_range=45,\n",
    "      width_shift_range=0.3,\n",
    "    height_shift_range=0.3,\n",
    "      horizontal_flip=True,\n",
    "     fill_mode='nearest'\n",
    ")\n",
    " \n",
    "# set our batch size (typically on most mid tier systems we'll use 16-32)\n",
    "batch_size = 25\n",
    "\n",
    " # Standardize image size\n",
    "img_rows, img_cols = 224, 224 \n",
    "\n",
    "train_generator = train_datagen.flow_from_directory(\n",
    "        train_data_dir,\n",
    "        target_size=(img_rows, img_cols),\n",
    "        batch_size=batch_size,\n",
    "        class_mode='categorical')\n",
    " \n",
    "validation_generator = validation_datagen.flow_from_directory(\n",
    "        validation_data_dir,\n",
    "        target_size=(img_rows, img_cols),\n",
    "        batch_size=batch_size,\n",
    "        class_mode='categorical')"
   ]
  },
  {
   "cell_type": "code",
   "execution_count": 3,
   "id": "9665fc9e",
   "metadata": {},
   "outputs": [
    {
     "name": "stdout",
     "output_type": "stream",
     "text": [
      "Metal device set to: Apple M1\n"
     ]
    },
    {
     "name": "stderr",
     "output_type": "stream",
     "text": [
      "2023-04-23 21:53:58.354693: I tensorflow/core/common_runtime/pluggable_device/pluggable_device_factory.cc:306] Could not identify NUMA node of platform GPU ID 0, defaulting to 0. Your kernel may not have been built with NUMA support.\n",
      "2023-04-23 21:53:58.354995: I tensorflow/core/common_runtime/pluggable_device/pluggable_device_factory.cc:272] Created TensorFlow device (/job:localhost/replica:0/task:0/device:GPU:0 with 0 MB memory) -> physical PluggableDevice (device: 0, name: METAL, pci bus id: <undefined>)\n"
     ]
    },
    {
     "name": "stdout",
     "output_type": "stream",
     "text": [
      "input_1\n",
      "block1_conv1\n",
      "block1_conv2\n",
      "block1_pool\n",
      "block2_conv1\n",
      "block2_conv2\n",
      "block2_pool\n",
      "block3_conv1\n",
      "block3_conv2\n",
      "block3_conv3\n",
      "block3_pool\n",
      "block4_conv1\n",
      "block4_conv2\n",
      "block4_conv3\n",
      "block4_pool\n",
      "\n",
      "block5_conv1\n",
      "block5_conv2\n",
      "block5_conv3\n",
      "block5_pool\n",
      "19\n"
     ]
    }
   ],
   "source": [
    "Pre_trained_model = VGG16(weights='imagenet',\n",
    "                  include_top=False,\n",
    "                  input_shape=(224, 224, 3))\n",
    "\n",
    "for layer in Pre_trained_model.layers[:-4]:\n",
    "    print(layer.name)\n",
    "    layer.trainable = False\n",
    "\n",
    "print()\n",
    "\n",
    "for layer in Pre_trained_model.layers[-4:]:\n",
    "    print(layer.name)\n",
    "    layer.trainable = True\n",
    "\n",
    "\n",
    "    \n",
    "print(len(Pre_trained_model.layers))"
   ]
  },
  {
   "cell_type": "code",
   "execution_count": 4,
   "id": "b185375b",
   "metadata": {},
   "outputs": [
    {
     "name": "stdout",
     "output_type": "stream",
     "text": [
      "Model: \"vgg16\"\n",
      "_________________________________________________________________\n",
      " Layer (type)                Output Shape              Param #   \n",
      "=================================================================\n",
      " input_1 (InputLayer)        [(None, 224, 224, 3)]     0         \n",
      "                                                                 \n",
      " block1_conv1 (Conv2D)       (None, 224, 224, 64)      1792      \n",
      "                                                                 \n",
      " block1_conv2 (Conv2D)       (None, 224, 224, 64)      36928     \n",
      "                                                                 \n",
      " block1_pool (MaxPooling2D)  (None, 112, 112, 64)      0         \n",
      "                                                                 \n",
      " block2_conv1 (Conv2D)       (None, 112, 112, 128)     73856     \n",
      "                                                                 \n",
      " block2_conv2 (Conv2D)       (None, 112, 112, 128)     147584    \n",
      "                                                                 \n",
      " block2_pool (MaxPooling2D)  (None, 56, 56, 128)       0         \n",
      "                                                                 \n",
      " block3_conv1 (Conv2D)       (None, 56, 56, 256)       295168    \n",
      "                                                                 \n",
      " block3_conv2 (Conv2D)       (None, 56, 56, 256)       590080    \n",
      "                                                                 \n",
      " block3_conv3 (Conv2D)       (None, 56, 56, 256)       590080    \n",
      "                                                                 \n",
      " block3_pool (MaxPooling2D)  (None, 28, 28, 256)       0         \n",
      "                                                                 \n",
      " block4_conv1 (Conv2D)       (None, 28, 28, 512)       1180160   \n",
      "                                                                 \n",
      " block4_conv2 (Conv2D)       (None, 28, 28, 512)       2359808   \n",
      "                                                                 \n",
      " block4_conv3 (Conv2D)       (None, 28, 28, 512)       2359808   \n",
      "                                                                 \n",
      " block4_pool (MaxPooling2D)  (None, 14, 14, 512)       0         \n",
      "                                                                 \n",
      " block5_conv1 (Conv2D)       (None, 14, 14, 512)       2359808   \n",
      "                                                                 \n",
      " block5_conv2 (Conv2D)       (None, 14, 14, 512)       2359808   \n",
      "                                                                 \n",
      " block5_conv3 (Conv2D)       (None, 14, 14, 512)       2359808   \n",
      "                                                                 \n",
      " block5_pool (MaxPooling2D)  (None, 7, 7, 512)         0         \n",
      "                                                                 \n",
      "=================================================================\n",
      "Total params: 14,714,688\n",
      "Trainable params: 7,079,424\n",
      "Non-trainable params: 7,635,264\n",
      "_________________________________________________________________\n"
     ]
    }
   ],
   "source": [
    "Pre_trained_model.summary()"
   ]
  },
  {
   "cell_type": "code",
   "execution_count": 5,
   "id": "24ae11e1",
   "metadata": {},
   "outputs": [
    {
     "name": "stdout",
     "output_type": "stream",
     "text": [
      "last layer output shape: (None, 7, 7, 512)\n"
     ]
    }
   ],
   "source": [
    "last_layer = Pre_trained_model.get_layer('block5_pool')\n",
    "print('last layer output shape:', last_layer.output_shape)\n",
    "last_output = last_layer.output"
   ]
  },
  {
   "cell_type": "code",
   "execution_count": 6,
   "id": "f929e293",
   "metadata": {},
   "outputs": [],
   "source": [
    "# DEFINE the Model\n",
    "# Flatten the output layer to 1 dimension\n",
    "x = layers.GlobalMaxPooling2D()(last_output)\n",
    "# Add a fully connected layer with 512 hidden units and ReLU activation\n",
    "x = layers.Dense(512, activation='relu')(x)\n",
    "# Add a dropout rate of 0.5\n",
    "x = layers.Dropout(0.5)(x)\n",
    "# Add a final sigmoid layer for classification\n",
    "x = layers.Dense(2, activation='sigmoid')(x)\n",
    "\n",
    "# Configure and compile the model\n",
    "\n",
    "model = tf.keras.Model(Pre_trained_model.input, x)\n",
    "\n",
    "# optimizer = Adam(learning_rate=0.001)\n",
    "optimizer = SGD(learning_rate=0.001)\n",
    "model.compile(optimizer=optimizer,\n",
    "              loss='binary_crossentropy',\n",
    "              metrics=['acc'])\n",
    "\n",
    "\n",
    "# model.compile(\n",
    "#             optimizer=keras.optimizers.Adadelta(),\n",
    "#             loss='sparse_categorical_crossentropy',\n",
    "#             metrics=['sparse_categorical_accuracy'])\n",
    "\n",
    "# Use VGG16 as feature extraction tool and then pass the output of pretrained model as input\n",
    "# Argue that you improve Random Forest Classifier - pass better features to classifier so it improves\n",
    "# Get features out of VGG16 and then pass them to Random Forest Classifier"
   ]
  },
  {
   "cell_type": "code",
   "execution_count": 7,
   "id": "49d10412",
   "metadata": {},
   "outputs": [
    {
     "name": "stdout",
     "output_type": "stream",
     "text": [
      "Model: \"model\"\n",
      "_________________________________________________________________\n",
      " Layer (type)                Output Shape              Param #   \n",
      "=================================================================\n",
      " input_1 (InputLayer)        [(None, 224, 224, 3)]     0         \n",
      "                                                                 \n",
      " block1_conv1 (Conv2D)       (None, 224, 224, 64)      1792      \n",
      "                                                                 \n",
      " block1_conv2 (Conv2D)       (None, 224, 224, 64)      36928     \n",
      "                                                                 \n",
      " block1_pool (MaxPooling2D)  (None, 112, 112, 64)      0         \n",
      "                                                                 \n",
      " block2_conv1 (Conv2D)       (None, 112, 112, 128)     73856     \n",
      "                                                                 \n",
      " block2_conv2 (Conv2D)       (None, 112, 112, 128)     147584    \n",
      "                                                                 \n",
      " block2_pool (MaxPooling2D)  (None, 56, 56, 128)       0         \n",
      "                                                                 \n",
      " block3_conv1 (Conv2D)       (None, 56, 56, 256)       295168    \n",
      "                                                                 \n",
      " block3_conv2 (Conv2D)       (None, 56, 56, 256)       590080    \n",
      "                                                                 \n",
      " block3_conv3 (Conv2D)       (None, 56, 56, 256)       590080    \n",
      "                                                                 \n",
      " block3_pool (MaxPooling2D)  (None, 28, 28, 256)       0         \n",
      "                                                                 \n",
      " block4_conv1 (Conv2D)       (None, 28, 28, 512)       1180160   \n",
      "                                                                 \n",
      " block4_conv2 (Conv2D)       (None, 28, 28, 512)       2359808   \n",
      "                                                                 \n",
      " block4_conv3 (Conv2D)       (None, 28, 28, 512)       2359808   \n",
      "                                                                 \n",
      " block4_pool (MaxPooling2D)  (None, 14, 14, 512)       0         \n",
      "                                                                 \n",
      " block5_conv1 (Conv2D)       (None, 14, 14, 512)       2359808   \n",
      "                                                                 \n",
      " block5_conv2 (Conv2D)       (None, 14, 14, 512)       2359808   \n",
      "                                                                 \n",
      " block5_conv3 (Conv2D)       (None, 14, 14, 512)       2359808   \n",
      "                                                                 \n",
      " block5_pool (MaxPooling2D)  (None, 7, 7, 512)         0         \n",
      "                                                                 \n",
      " global_max_pooling2d (Globa  (None, 512)              0         \n",
      " lMaxPooling2D)                                                  \n",
      "                                                                 \n",
      " dense (Dense)               (None, 512)               262656    \n",
      "                                                                 \n",
      " dropout (Dropout)           (None, 512)               0         \n",
      "                                                                 \n",
      " dense_1 (Dense)             (None, 2)                 1026      \n",
      "                                                                 \n",
      "=================================================================\n",
      "Total params: 14,978,370\n",
      "Trainable params: 7,343,106\n",
      "Non-trainable params: 7,635,264\n",
      "_________________________________________________________________\n"
     ]
    }
   ],
   "source": [
    "model.summary()"
   ]
  },
  {
   "cell_type": "code",
   "execution_count": 8,
   "id": "5a6b816c",
   "metadata": {
    "scrolled": true
   },
   "outputs": [
    {
     "name": "stdout",
     "output_type": "stream",
     "text": [
      "Epoch 1/70\n"
     ]
    },
    {
     "name": "stderr",
     "output_type": "stream",
     "text": [
      "2023-04-23 21:53:59.112457: W tensorflow/core/platform/profile_utils/cpu_utils.cc:128] Failed to get CPU frequency: 0 Hz\n",
      "2023-04-23 21:53:59.318180: I tensorflow/core/grappler/optimizers/custom_graph_optimizer_registry.cc:114] Plugin optimizer for device_type GPU is enabled.\n"
     ]
    },
    {
     "name": "stdout",
     "output_type": "stream",
     "text": [
      "12/12 [==============================] - ETA: 0s - loss: 0.7696 - acc: 0.5333"
     ]
    },
    {
     "name": "stderr",
     "output_type": "stream",
     "text": [
      "2023-04-23 21:54:06.655509: I tensorflow/core/grappler/optimizers/custom_graph_optimizer_registry.cc:114] Plugin optimizer for device_type GPU is enabled.\n"
     ]
    },
    {
     "name": "stdout",
     "output_type": "stream",
     "text": [
      "12/12 [==============================] - 10s 774ms/step - loss: 0.7696 - acc: 0.5333 - val_loss: 0.6740 - val_acc: 0.5700\n",
      "Epoch 2/70\n",
      "12/12 [==============================] - 8s 679ms/step - loss: 0.7476 - acc: 0.5600 - val_loss: 0.6787 - val_acc: 0.5100\n",
      "Epoch 3/70\n",
      "12/12 [==============================] - 8s 703ms/step - loss: 0.7332 - acc: 0.5400 - val_loss: 0.6619 - val_acc: 0.6200\n",
      "Epoch 4/70\n",
      "12/12 [==============================] - 8s 706ms/step - loss: 0.7066 - acc: 0.6233 - val_loss: 0.6587 - val_acc: 0.6600\n",
      "Epoch 5/70\n",
      "12/12 [==============================] - 8s 695ms/step - loss: 0.6912 - acc: 0.6000 - val_loss: 0.6496 - val_acc: 0.6500\n",
      "Epoch 6/70\n",
      "12/12 [==============================] - 8s 682ms/step - loss: 0.6787 - acc: 0.6033 - val_loss: 0.6338 - val_acc: 0.7000\n",
      "Epoch 7/70\n",
      "12/12 [==============================] - 8s 676ms/step - loss: 0.6795 - acc: 0.6233 - val_loss: 0.6315 - val_acc: 0.6800\n",
      "Epoch 8/70\n",
      "12/12 [==============================] - 8s 678ms/step - loss: 0.6519 - acc: 0.6467 - val_loss: 0.6363 - val_acc: 0.6500\n",
      "Epoch 9/70\n",
      "12/12 [==============================] - 8s 678ms/step - loss: 0.6570 - acc: 0.6267 - val_loss: 0.6148 - val_acc: 0.6900\n",
      "Epoch 10/70\n",
      "12/12 [==============================] - 8s 676ms/step - loss: 0.6447 - acc: 0.6600 - val_loss: 0.6059 - val_acc: 0.7200\n",
      "Epoch 11/70\n",
      "12/12 [==============================] - 8s 678ms/step - loss: 0.5933 - acc: 0.7267 - val_loss: 0.5993 - val_acc: 0.6900\n",
      "Epoch 12/70\n",
      "12/12 [==============================] - 8s 679ms/step - loss: 0.6203 - acc: 0.7033 - val_loss: 0.6035 - val_acc: 0.6600\n",
      "Epoch 13/70\n",
      "12/12 [==============================] - 8s 688ms/step - loss: 0.6271 - acc: 0.6667 - val_loss: 0.5932 - val_acc: 0.7600\n",
      "Epoch 14/70\n",
      "12/12 [==============================] - 8s 687ms/step - loss: 0.5971 - acc: 0.7000 - val_loss: 0.5931 - val_acc: 0.6700\n",
      "Epoch 15/70\n",
      "12/12 [==============================] - 8s 684ms/step - loss: 0.6097 - acc: 0.7033 - val_loss: 0.5734 - val_acc: 0.7500\n",
      "Epoch 16/70\n",
      "12/12 [==============================] - 8s 687ms/step - loss: 0.5959 - acc: 0.7033 - val_loss: 0.5844 - val_acc: 0.6600\n",
      "Epoch 17/70\n",
      "12/12 [==============================] - 8s 681ms/step - loss: 0.5762 - acc: 0.7133 - val_loss: 0.5763 - val_acc: 0.7000\n",
      "Epoch 18/70\n",
      "12/12 [==============================] - 8s 677ms/step - loss: 0.5743 - acc: 0.7067 - val_loss: 0.5561 - val_acc: 0.7100\n",
      "Epoch 19/70\n",
      "12/12 [==============================] - 8s 678ms/step - loss: 0.5654 - acc: 0.7400 - val_loss: 0.5619 - val_acc: 0.6800\n",
      "Epoch 20/70\n",
      "12/12 [==============================] - 8s 679ms/step - loss: 0.5838 - acc: 0.6833 - val_loss: 0.5665 - val_acc: 0.6600\n",
      "Epoch 21/70\n",
      "12/12 [==============================] - 8s 698ms/step - loss: 0.5630 - acc: 0.7267 - val_loss: 0.5509 - val_acc: 0.7000\n",
      "Epoch 22/70\n",
      "12/12 [==============================] - 8s 677ms/step - loss: 0.5421 - acc: 0.7533 - val_loss: 0.5472 - val_acc: 0.7000\n",
      "Epoch 23/70\n",
      "12/12 [==============================] - 8s 674ms/step - loss: 0.5555 - acc: 0.7100 - val_loss: 0.5471 - val_acc: 0.7300\n",
      "Epoch 24/70\n",
      "12/12 [==============================] - 8s 672ms/step - loss: 0.5346 - acc: 0.7467 - val_loss: 0.5551 - val_acc: 0.7100\n",
      "Epoch 25/70\n",
      "12/12 [==============================] - 8s 672ms/step - loss: 0.5397 - acc: 0.7600 - val_loss: 0.5413 - val_acc: 0.7300\n",
      "Epoch 26/70\n",
      "12/12 [==============================] - 8s 674ms/step - loss: 0.5256 - acc: 0.7500 - val_loss: 0.5248 - val_acc: 0.7200\n",
      "Epoch 27/70\n",
      "12/12 [==============================] - 8s 673ms/step - loss: 0.5047 - acc: 0.7567 - val_loss: 0.5266 - val_acc: 0.6800\n",
      "Epoch 28/70\n",
      "12/12 [==============================] - 8s 677ms/step - loss: 0.5393 - acc: 0.7467 - val_loss: 0.5434 - val_acc: 0.7100\n",
      "Epoch 29/70\n",
      "12/12 [==============================] - 8s 676ms/step - loss: 0.5183 - acc: 0.7567 - val_loss: 0.5189 - val_acc: 0.7400\n",
      "Epoch 30/70\n",
      "12/12 [==============================] - 8s 674ms/step - loss: 0.4959 - acc: 0.7833 - val_loss: 0.5114 - val_acc: 0.7100\n",
      "Epoch 31/70\n",
      "12/12 [==============================] - 8s 675ms/step - loss: 0.5024 - acc: 0.7633 - val_loss: 0.5006 - val_acc: 0.7200\n",
      "Epoch 32/70\n",
      "12/12 [==============================] - 8s 675ms/step - loss: 0.4985 - acc: 0.7800 - val_loss: 0.5062 - val_acc: 0.7100\n",
      "Epoch 33/70\n",
      "12/12 [==============================] - 8s 692ms/step - loss: 0.4991 - acc: 0.7933 - val_loss: 0.5041 - val_acc: 0.7400\n",
      "Epoch 34/70\n",
      "12/12 [==============================] - 8s 705ms/step - loss: 0.4881 - acc: 0.7833 - val_loss: 0.5123 - val_acc: 0.7500\n",
      "Epoch 35/70\n",
      "12/12 [==============================] - 8s 694ms/step - loss: 0.4695 - acc: 0.8000 - val_loss: 0.4787 - val_acc: 0.7300\n",
      "Epoch 36/70\n",
      "12/12 [==============================] - 9s 726ms/step - loss: 0.4600 - acc: 0.8200 - val_loss: 0.4851 - val_acc: 0.7500\n",
      "Epoch 37/70\n",
      "12/12 [==============================] - 9s 715ms/step - loss: 0.4674 - acc: 0.8067 - val_loss: 0.4791 - val_acc: 0.7400\n",
      "Epoch 38/70\n",
      "12/12 [==============================] - 9s 723ms/step - loss: 0.4703 - acc: 0.7867 - val_loss: 0.4872 - val_acc: 0.8000\n",
      "Epoch 39/70\n",
      "12/12 [==============================] - 8s 700ms/step - loss: 0.4518 - acc: 0.7933 - val_loss: 0.4753 - val_acc: 0.7900\n",
      "Epoch 40/70\n",
      "12/12 [==============================] - 8s 692ms/step - loss: 0.4622 - acc: 0.7767 - val_loss: 0.4804 - val_acc: 0.7500\n",
      "Epoch 41/70\n",
      "12/12 [==============================] - 8s 690ms/step - loss: 0.4399 - acc: 0.8200 - val_loss: 0.4729 - val_acc: 0.7800\n",
      "Epoch 42/70\n",
      "12/12 [==============================] - 8s 692ms/step - loss: 0.4676 - acc: 0.7967 - val_loss: 0.4740 - val_acc: 0.7600\n",
      "Epoch 43/70\n",
      "12/12 [==============================] - 8s 692ms/step - loss: 0.4448 - acc: 0.8200 - val_loss: 0.4594 - val_acc: 0.7700\n",
      "Epoch 44/70\n",
      "12/12 [==============================] - 8s 695ms/step - loss: 0.4341 - acc: 0.8033 - val_loss: 0.4792 - val_acc: 0.7800\n",
      "Epoch 45/70\n",
      "12/12 [==============================] - 8s 692ms/step - loss: 0.4149 - acc: 0.8400 - val_loss: 0.4548 - val_acc: 0.8200\n",
      "Epoch 46/70\n",
      "12/12 [==============================] - 8s 692ms/step - loss: 0.4121 - acc: 0.8367 - val_loss: 0.4359 - val_acc: 0.8000\n",
      "Epoch 47/70\n",
      "12/12 [==============================] - 8s 692ms/step - loss: 0.4199 - acc: 0.8300 - val_loss: 0.4611 - val_acc: 0.7700\n",
      "Epoch 48/70\n",
      "12/12 [==============================] - 8s 693ms/step - loss: 0.3993 - acc: 0.8400 - val_loss: 0.4240 - val_acc: 0.8200\n",
      "Epoch 49/70\n",
      "12/12 [==============================] - 8s 697ms/step - loss: 0.4009 - acc: 0.8433 - val_loss: 0.4664 - val_acc: 0.7500\n",
      "Epoch 50/70\n",
      "12/12 [==============================] - 8s 695ms/step - loss: 0.3878 - acc: 0.8333 - val_loss: 0.4394 - val_acc: 0.8300\n",
      "Epoch 51/70\n",
      "12/12 [==============================] - 8s 697ms/step - loss: 0.4096 - acc: 0.8533 - val_loss: 0.4084 - val_acc: 0.8100\n",
      "Epoch 52/70\n",
      "12/12 [==============================] - 8s 699ms/step - loss: 0.3888 - acc: 0.8567 - val_loss: 0.4298 - val_acc: 0.7900\n",
      "Epoch 53/70\n",
      "12/12 [==============================] - 8s 701ms/step - loss: 0.3643 - acc: 0.8733 - val_loss: 0.4319 - val_acc: 0.8200\n",
      "Epoch 54/70\n",
      "12/12 [==============================] - 8s 702ms/step - loss: 0.3723 - acc: 0.8633 - val_loss: 0.4186 - val_acc: 0.7900\n",
      "Epoch 55/70\n",
      "12/12 [==============================] - 9s 701ms/step - loss: 0.3748 - acc: 0.8633 - val_loss: 0.4097 - val_acc: 0.8500\n",
      "Epoch 56/70\n",
      "12/12 [==============================] - 9s 707ms/step - loss: 0.3730 - acc: 0.8500 - val_loss: 0.4030 - val_acc: 0.8300\n",
      "Epoch 57/70\n",
      "12/12 [==============================] - 8s 696ms/step - loss: 0.3593 - acc: 0.8500 - val_loss: 0.4002 - val_acc: 0.8400\n",
      "Epoch 58/70\n",
      "12/12 [==============================] - 8s 694ms/step - loss: 0.3805 - acc: 0.8533 - val_loss: 0.3731 - val_acc: 0.8500\n",
      "Epoch 59/70\n",
      "12/12 [==============================] - 8s 693ms/step - loss: 0.3522 - acc: 0.8700 - val_loss: 0.3999 - val_acc: 0.8500\n",
      "Epoch 60/70\n",
      "12/12 [==============================] - 8s 695ms/step - loss: 0.3419 - acc: 0.8767 - val_loss: 0.3860 - val_acc: 0.8300\n",
      "Epoch 61/70\n",
      "12/12 [==============================] - 8s 695ms/step - loss: 0.3481 - acc: 0.8567 - val_loss: 0.3720 - val_acc: 0.8600\n",
      "Epoch 62/70\n",
      "12/12 [==============================] - 8s 698ms/step - loss: 0.3533 - acc: 0.8600 - val_loss: 0.3912 - val_acc: 0.8500\n"
     ]
    },
    {
     "name": "stdout",
     "output_type": "stream",
     "text": [
      "Epoch 63/70\n",
      "12/12 [==============================] - 8s 704ms/step - loss: 0.3212 - acc: 0.8867 - val_loss: 0.3691 - val_acc: 0.8500\n",
      "Epoch 64/70\n",
      "12/12 [==============================] - 8s 690ms/step - loss: 0.3414 - acc: 0.8467 - val_loss: 0.3837 - val_acc: 0.8200\n",
      "Epoch 65/70\n",
      "12/12 [==============================] - 8s 694ms/step - loss: 0.3232 - acc: 0.8767 - val_loss: 0.3629 - val_acc: 0.8700\n",
      "Epoch 66/70\n",
      "12/12 [==============================] - 8s 696ms/step - loss: 0.3330 - acc: 0.8767 - val_loss: 0.3692 - val_acc: 0.8600\n",
      "Epoch 67/70\n",
      "12/12 [==============================] - 9s 759ms/step - loss: 0.3201 - acc: 0.8800 - val_loss: 0.3620 - val_acc: 0.8200\n",
      "Epoch 68/70\n",
      "12/12 [==============================] - 9s 713ms/step - loss: 0.3123 - acc: 0.8933 - val_loss: 0.3907 - val_acc: 0.8300\n",
      "Epoch 69/70\n",
      "12/12 [==============================] - 9s 741ms/step - loss: 0.3279 - acc: 0.8833 - val_loss: 0.3685 - val_acc: 0.8200\n",
      "Epoch 70/70\n",
      "12/12 [==============================] - 9s 730ms/step - loss: 0.3230 - acc: 0.8567 - val_loss: 0.3478 - val_acc: 0.8800\n"
     ]
    }
   ],
   "source": [
    "#Training the MODEL Feature-Extraction\n",
    "#If performing fine tuning directly would result in a huge gradient, so it's better that we perform 3 epochs of \n",
    "# feature extraction first so that weights of the final fully connected layer aren't completely random. \n",
    "#The intuition for this is that if we don't perform feature-extraction, then the gradient will be too large\n",
    "#and will change the pretrained weights too much.\n",
    "# Enter the number of training and validation samples here\n",
    "nb_train_samples = 300\n",
    "nb_validation_samples = 100\n",
    "\n",
    "# We only train 5 EPOCHS \n",
    "epochs = 70\n",
    "# batch_size = 25\n",
    "\n",
    "r = model.fit(\n",
    "    train_generator,\n",
    "    steps_per_epoch = nb_train_samples // batch_size,\n",
    "    epochs = epochs,\n",
    "    validation_data = validation_generator,\n",
    "    validation_steps = nb_validation_samples // batch_size)"
   ]
  },
  {
   "cell_type": "code",
   "execution_count": 11,
   "id": "2054e86f",
   "metadata": {},
   "outputs": [
    {
     "data": {
      "image/png": "[encoded data removed]",
      "text/plain": [
       "<Figure size 640x480 with 1 Axes>"
      ]
     },
     "metadata": {},
     "output_type": "display_data"
    }
   ],
   "source": [
    "plt.plot(r.history['acc'])\n",
    "plt.plot(r.history['val_acc'])\n",
    "plt.title('model accuracy')\n",
    "plt.ylabel('accuracy')\n",
    "plt.xlabel('epoch')\n",
    "plt.legend(['train', 'validation'], loc='upper left')\n",
    "plt.show()"
   ]
  },
  {
   "cell_type": "code",
   "execution_count": 12,
   "id": "bf5ff736",
   "metadata": {},
   "outputs": [
    {
     "data": {
      "image/png": "[encoded data removed]",
      "text/plain": [
       "<Figure size 640x480 with 1 Axes>"
      ]
     },
     "metadata": {},
     "output_type": "display_data"
    }
   ],
   "source": [
    "plt.plot(r.history['loss'])\n",
    "plt.plot(r.history['val_loss'])\n",
    "plt.title('model loss')\n",
    "plt.ylabel('loss')\n",
    "plt.xlabel('epoch')\n",
    "plt.legend(['train', 'test'], loc='upper left')\n",
    "plt.show()"
   ]
  },
  {
   "cell_type": "code",
   "execution_count": 40,
   "id": "bcda76b1",
   "metadata": {},
   "outputs": [],
   "source": [
    "df1 = pd.DataFrame(r.history['acc']) \n",
    "df2 = pd.DataFrame(r.history['val_acc'])\n",
    "df3 = pd.DataFrame(r.history['loss'])\n",
    "df4 = pd.DataFrame(r.history['val_loss'])\n",
    "\n",
    "\n",
    "\n",
    "df1.to_csv('ht_acc1.csv', header = False)\n",
    "df2.to_csv('ht_Vacc1.csv', header = False)\n",
    "df3.to_csv('ht_loss1.csv', header = False)\n",
    "df4.to_csv('ht_Vloss1.csv', header = False)"
   ]
  },
  {
   "cell_type": "code",
   "execution_count": null,
   "id": "8934d42b",
   "metadata": {},
   "outputs": [],
   "source": []
  },
  {
   "cell_type": "code",
   "execution_count": null,
   "id": "eb3964ee",
   "metadata": {},
   "outputs": [],
   "source": [
    "report = metrics.classification_report(true_classes, predicted_classes, target_names=class_labels)\n",
    "print(report)    \n"
   ]
  },
  {
   "cell_type": "code",
   "execution_count": null,
   "id": "e5f2daad",
   "metadata": {},
   "outputs": [],
   "source": []
  },
  {
   "cell_type": "code",
   "execution_count": null,
   "id": "a564eac9",
   "metadata": {},
   "outputs": [],
   "source": []
  },
  {
   "cell_type": "code",
   "execution_count": null,
   "id": "c5c690c3",
   "metadata": {},
   "outputs": [],
   "source": []
  }
 ],
 "metadata": {
  "kernelspec": {
   "display_name": "Python 3 (ipykernel)",
   "language": "python",
   "name": "python3"
  },
  "language_info": {
   "codemirror_mode": {
    "name": "ipython",
    "version": 3
   },
   "file_extension": ".py",
   "mimetype": "text/x-python",
   "name": "python",
   "nbconvert_exporter": "python",
   "pygments_lexer": "ipython3",
   "version": "3.10.6"
  }
 },
 "nbformat": 4,
 "nbformat_minor": 5
}
