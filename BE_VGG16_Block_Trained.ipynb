{
 "cells": [
  {
   "cell_type": "code",
   "execution_count": 45,
   "id": "7c49b61e",
   "metadata": {},
   "outputs": [],
   "source": [
    "import os\n",
    "import sys\n",
    "import datetime\n",
    "import glob as glob\n",
    "import numpy as np\n",
    "import cv2\n",
    "import keras\n",
    "from keras.models import Model, Sequential\n",
    "from keras.layers import Dense, GlobalAveragePooling2D, Flatten\n",
    "from keras.preprocessing.image import ImageDataGenerator\n",
    "import tensorflow as tf\n",
    "import pandas as pd\n",
    "import matplotlib.pyplot as plt\n",
    "%matplotlib inline\n",
    "from keras.applications.vgg16 import VGG16, preprocess_input\n",
    "from keras import layers, models\n",
    "from keras.optimizers import Adam, RMSprop, SGD\n",
    "from keras.callbacks import ReduceLROnPlateau, EarlyStopping\n",
    "\n",
    "from sklearn import svm\n",
    "from sklearn import metrics\n",
    "from sklearn.ensemble import RandomForestClassifier\n",
    "from sklearn.metrics import confusion_matrix\n",
    "import seaborn as sns"
   ]
  },
  {
   "cell_type": "markdown",
   "id": "8359b638",
   "metadata": {},
   "source": [
    "# CNN 4 - only keep the first layer of each block"
   ]
  },
  {
   "cell_type": "code",
   "execution_count": 46,
   "id": "7b762556",
   "metadata": {},
   "outputs": [
    {
     "name": "stdout",
     "output_type": "stream",
     "text": [
      "Found 300 images belonging to 2 classes.\n",
      "Found 100 images belonging to 2 classes.\n"
     ]
    }
   ],
   "source": [
    "from keras.preprocessing.image import ImageDataGenerator\n",
    "\n",
    "train_data_dir = 'Polyp_copy/train'\n",
    "validation_data_dir = 'Polyp_copy/validation'\n",
    "\n",
    "# Image generation \n",
    "train_datagen = ImageDataGenerator(\n",
    "     rescale=1./255,\n",
    "      rotation_range=45,\n",
    "      width_shift_range=0.3,\n",
    "     height_shift_range=0.3,\n",
    "      horizontal_flip=True,\n",
    "     fill_mode='nearest'\n",
    ")\n",
    " # Image generation \n",
    "\n",
    "validation_datagen = ImageDataGenerator(\n",
    "     rescale=1./255,\n",
    "     rotation_range=45,\n",
    "      width_shift_range=0.3,\n",
    "    height_shift_range=0.3,\n",
    "      horizontal_flip=True,\n",
    "     fill_mode='nearest'\n",
    ")\n",
    " \n",
    "# set our batch size (typically on most mid tier systems we'll use 16-32)\n",
    "batch_size = 25\n",
    "\n",
    " # Standardize image size\n",
    "img_rows, img_cols = 224, 224 \n",
    "\n",
    "train_generator = train_datagen.flow_from_directory(\n",
    "        train_data_dir,\n",
    "        target_size=(img_rows, img_cols),\n",
    "        batch_size=batch_size,\n",
    "        class_mode='categorical')\n",
    " \n",
    "validation_generator = validation_datagen.flow_from_directory(\n",
    "        validation_data_dir,\n",
    "        target_size=(img_rows, img_cols),\n",
    "        batch_size=batch_size,\n",
    "        class_mode='categorical')"
   ]
  },
  {
   "cell_type": "code",
   "execution_count": 47,
   "id": "d91227be",
   "metadata": {},
   "outputs": [
    {
     "name": "stdout",
     "output_type": "stream",
     "text": [
      "input_2\n",
      "True\n",
      "block1_conv1\n",
      "False\n",
      "block1_conv2\n",
      "True\n",
      "block1_pool\n",
      "True\n",
      "block2_conv1\n",
      "False\n",
      "block2_conv2\n",
      "True\n",
      "block2_pool\n",
      "True\n",
      "block3_conv1\n",
      "False\n",
      "block3_conv2\n",
      "True\n",
      "block3_conv3\n",
      "True\n",
      "block3_pool\n",
      "True\n",
      "block4_conv1\n",
      "False\n",
      "block4_conv2\n",
      "True\n",
      "block4_conv3\n",
      "True\n",
      "block4_pool\n",
      "True\n",
      "block5_conv1\n",
      "False\n",
      "block5_conv2\n",
      "True\n",
      "block5_conv3\n",
      "True\n",
      "block5_pool\n",
      "True\n"
     ]
    }
   ],
   "source": [
    "Pre_trained_model = VGG16(weights='imagenet',\n",
    "                  include_top=False,\n",
    "                  input_shape=(224, 224, 3))\n",
    "\n",
    "for layer in Pre_trained_model.layers:\n",
    "    layer.trainable = True\n",
    "\n",
    "Pre_trained_model.layers[1].trainable = False\n",
    "Pre_trained_model.layers[4].trainable = False\n",
    "Pre_trained_model.layers[7].trainable = False\n",
    "Pre_trained_model.layers[11].trainable = False\n",
    "Pre_trained_model.layers[15].trainable = False\n",
    "\n",
    "for layer in Pre_trained_model.layers:\n",
    "    print(layer.name)\n",
    "    print(layer.trainable)"
   ]
  },
  {
   "cell_type": "code",
   "execution_count": 48,
   "id": "87a52db8",
   "metadata": {},
   "outputs": [
    {
     "name": "stdout",
     "output_type": "stream",
     "text": [
      "Model: \"vgg16\"\n",
      "_________________________________________________________________\n",
      " Layer (type)                Output Shape              Param #   \n",
      "=================================================================\n",
      " input_2 (InputLayer)        [(None, 224, 224, 3)]     0         \n",
      "                                                                 \n",
      " block1_conv1 (Conv2D)       (None, 224, 224, 64)      1792      \n",
      "                                                                 \n",
      " block1_conv2 (Conv2D)       (None, 224, 224, 64)      36928     \n",
      "                                                                 \n",
      " block1_pool (MaxPooling2D)  (None, 112, 112, 64)      0         \n",
      "                                                                 \n",
      " block2_conv1 (Conv2D)       (None, 112, 112, 128)     73856     \n",
      "                                                                 \n",
      " block2_conv2 (Conv2D)       (None, 112, 112, 128)     147584    \n",
      "                                                                 \n",
      " block2_pool (MaxPooling2D)  (None, 56, 56, 128)       0         \n",
      "                                                                 \n",
      " block3_conv1 (Conv2D)       (None, 56, 56, 256)       295168    \n",
      "                                                                 \n",
      " block3_conv2 (Conv2D)       (None, 56, 56, 256)       590080    \n",
      "                                                                 \n",
      " block3_conv3 (Conv2D)       (None, 56, 56, 256)       590080    \n",
      "                                                                 \n",
      " block3_pool (MaxPooling2D)  (None, 28, 28, 256)       0         \n",
      "                                                                 \n",
      " block4_conv1 (Conv2D)       (None, 28, 28, 512)       1180160   \n",
      "                                                                 \n",
      " block4_conv2 (Conv2D)       (None, 28, 28, 512)       2359808   \n",
      "                                                                 \n",
      " block4_conv3 (Conv2D)       (None, 28, 28, 512)       2359808   \n",
      "                                                                 \n",
      " block4_pool (MaxPooling2D)  (None, 14, 14, 512)       0         \n",
      "                                                                 \n",
      " block5_conv1 (Conv2D)       (None, 14, 14, 512)       2359808   \n",
      "                                                                 \n",
      " block5_conv2 (Conv2D)       (None, 14, 14, 512)       2359808   \n",
      "                                                                 \n",
      " block5_conv3 (Conv2D)       (None, 14, 14, 512)       2359808   \n",
      "                                                                 \n",
      " block5_pool (MaxPooling2D)  (None, 7, 7, 512)         0         \n",
      "                                                                 \n",
      "=================================================================\n",
      "Total params: 14,714,688\n",
      "Trainable params: 10,803,904\n",
      "Non-trainable params: 3,910,784\n",
      "_________________________________________________________________\n"
     ]
    }
   ],
   "source": [
    "Pre_trained_model.summary()"
   ]
  },
  {
   "cell_type": "code",
   "execution_count": 49,
   "id": "e6ecf327",
   "metadata": {},
   "outputs": [
    {
     "name": "stdout",
     "output_type": "stream",
     "text": [
      "last layer output shape: (None, 7, 7, 512)\n"
     ]
    }
   ],
   "source": [
    "last_layer = Pre_trained_model.get_layer('block5_pool')\n",
    "print('last layer output shape:', last_layer.output_shape)\n",
    "last_output = last_layer.output"
   ]
  },
  {
   "cell_type": "code",
   "execution_count": 50,
   "id": "919c4177",
   "metadata": {},
   "outputs": [],
   "source": [
    "# DEFINE the Model\n",
    "# Flatten the output layer to 1 dimension\n",
    "x = layers.GlobalMaxPooling2D()(last_output)\n",
    "# Add a fully connected layer with 512 hidden units and ReLU activation\n",
    "x = layers.Dense(512, activation='relu')(x)\n",
    "# Add a dropout rate of 0.5\n",
    "x = layers.Dropout(0.5)(x)\n",
    "# Add a final sigmoid layer for classification\n",
    "x = layers.Dense(2, activation='sigmoid')(x)\n",
    "\n",
    "# Configure and compile the model\n",
    "\n",
    "model = tf.keras.Model(Pre_trained_model.input, x)\n",
    "\n",
    "optimizer = SGD(learning_rate=0.001)\n",
    "model.compile(optimizer=optimizer,\n",
    "              loss='binary_crossentropy',\n",
    "              metrics=['acc'])"
   ]
  },
  {
   "cell_type": "code",
   "execution_count": 51,
   "id": "5605253c",
   "metadata": {},
   "outputs": [
    {
     "name": "stdout",
     "output_type": "stream",
     "text": [
      "Model: \"model_1\"\n",
      "_________________________________________________________________\n",
      " Layer (type)                Output Shape              Param #   \n",
      "=================================================================\n",
      " input_2 (InputLayer)        [(None, 224, 224, 3)]     0         \n",
      "                                                                 \n",
      " block1_conv1 (Conv2D)       (None, 224, 224, 64)      1792      \n",
      "                                                                 \n",
      " block1_conv2 (Conv2D)       (None, 224, 224, 64)      36928     \n",
      "                                                                 \n",
      " block1_pool (MaxPooling2D)  (None, 112, 112, 64)      0         \n",
      "                                                                 \n",
      " block2_conv1 (Conv2D)       (None, 112, 112, 128)     73856     \n",
      "                                                                 \n",
      " block2_conv2 (Conv2D)       (None, 112, 112, 128)     147584    \n",
      "                                                                 \n",
      " block2_pool (MaxPooling2D)  (None, 56, 56, 128)       0         \n",
      "                                                                 \n",
      " block3_conv1 (Conv2D)       (None, 56, 56, 256)       295168    \n",
      "                                                                 \n",
      " block3_conv2 (Conv2D)       (None, 56, 56, 256)       590080    \n",
      "                                                                 \n",
      " block3_conv3 (Conv2D)       (None, 56, 56, 256)       590080    \n",
      "                                                                 \n",
      " block3_pool (MaxPooling2D)  (None, 28, 28, 256)       0         \n",
      "                                                                 \n",
      " block4_conv1 (Conv2D)       (None, 28, 28, 512)       1180160   \n",
      "                                                                 \n",
      " block4_conv2 (Conv2D)       (None, 28, 28, 512)       2359808   \n",
      "                                                                 \n",
      " block4_conv3 (Conv2D)       (None, 28, 28, 512)       2359808   \n",
      "                                                                 \n",
      " block4_pool (MaxPooling2D)  (None, 14, 14, 512)       0         \n",
      "                                                                 \n",
      " block5_conv1 (Conv2D)       (None, 14, 14, 512)       2359808   \n",
      "                                                                 \n",
      " block5_conv2 (Conv2D)       (None, 14, 14, 512)       2359808   \n",
      "                                                                 \n",
      " block5_conv3 (Conv2D)       (None, 14, 14, 512)       2359808   \n",
      "                                                                 \n",
      " block5_pool (MaxPooling2D)  (None, 7, 7, 512)         0         \n",
      "                                                                 \n",
      " global_max_pooling2d_1 (Glo  (None, 512)              0         \n",
      " balMaxPooling2D)                                                \n",
      "                                                                 \n",
      " dense_2 (Dense)             (None, 512)               262656    \n",
      "                                                                 \n",
      " dropout_1 (Dropout)         (None, 512)               0         \n",
      "                                                                 \n",
      " dense_3 (Dense)             (None, 2)                 1026      \n",
      "                                                                 \n",
      "=================================================================\n",
      "Total params: 14,978,370\n",
      "Trainable params: 11,067,586\n",
      "Non-trainable params: 3,910,784\n",
      "_________________________________________________________________\n"
     ]
    }
   ],
   "source": [
    "model.summary()"
   ]
  },
  {
   "cell_type": "code",
   "execution_count": 52,
   "id": "d52ad8e9",
   "metadata": {
    "scrolled": true
   },
   "outputs": [
    {
     "name": "stdout",
     "output_type": "stream",
     "text": [
      "Epoch 1/70\n"
     ]
    },
    {
     "name": "stderr",
     "output_type": "stream",
     "text": [
      "2023-03-23 22:36:18.328489: I tensorflow/core/grappler/optimizers/custom_graph_optimizer_registry.cc:114] Plugin optimizer for device_type GPU is enabled.\n"
     ]
    },
    {
     "name": "stdout",
     "output_type": "stream",
     "text": [
      "12/12 [==============================] - ETA: 0s - loss: 0.7776 - acc: 0.4900"
     ]
    },
    {
     "name": "stderr",
     "output_type": "stream",
     "text": [
      "2023-03-23 22:36:54.061307: I tensorflow/core/grappler/optimizers/custom_graph_optimizer_registry.cc:114] Plugin optimizer for device_type GPU is enabled.\n"
     ]
    },
    {
     "name": "stdout",
     "output_type": "stream",
     "text": [
      "12/12 [==============================] - 40s 3s/step - loss: 0.7776 - acc: 0.4900 - val_loss: 0.6863 - val_acc: 0.5600\n",
      "Epoch 2/70\n",
      "12/12 [==============================] - 36s 3s/step - loss: 0.7363 - acc: 0.5733 - val_loss: 0.6697 - val_acc: 0.6000\n",
      "Epoch 3/70\n",
      "12/12 [==============================] - 35s 3s/step - loss: 0.7402 - acc: 0.5167 - val_loss: 0.6681 - val_acc: 0.6400\n",
      "Epoch 4/70\n",
      "12/12 [==============================] - 36s 3s/step - loss: 0.7183 - acc: 0.5533 - val_loss: 0.6524 - val_acc: 0.6700\n",
      "Epoch 5/70\n",
      "12/12 [==============================] - 36s 3s/step - loss: 0.7134 - acc: 0.5500 - val_loss: 0.6380 - val_acc: 0.7300\n",
      "Epoch 6/70\n",
      "12/12 [==============================] - 36s 3s/step - loss: 0.6675 - acc: 0.6333 - val_loss: 0.6302 - val_acc: 0.7100\n",
      "Epoch 7/70\n",
      "12/12 [==============================] - 36s 3s/step - loss: 0.6618 - acc: 0.6300 - val_loss: 0.6166 - val_acc: 0.7000\n",
      "Epoch 8/70\n",
      "12/12 [==============================] - 36s 3s/step - loss: 0.6163 - acc: 0.6800 - val_loss: 0.6001 - val_acc: 0.7000\n",
      "Epoch 9/70\n",
      "12/12 [==============================] - 37s 3s/step - loss: 0.6129 - acc: 0.6700 - val_loss: 0.5983 - val_acc: 0.7100\n",
      "Epoch 10/70\n",
      "12/12 [==============================] - 36s 3s/step - loss: 0.6135 - acc: 0.7000 - val_loss: 0.5752 - val_acc: 0.7300\n",
      "Epoch 11/70\n",
      "12/12 [==============================] - 36s 3s/step - loss: 0.5984 - acc: 0.6900 - val_loss: 0.5680 - val_acc: 0.7300\n",
      "Epoch 12/70\n",
      "12/12 [==============================] - 37s 3s/step - loss: 0.5722 - acc: 0.7200 - val_loss: 0.5524 - val_acc: 0.7800\n",
      "Epoch 13/70\n",
      "12/12 [==============================] - 37s 3s/step - loss: 0.5434 - acc: 0.7333 - val_loss: 0.5330 - val_acc: 0.7100\n",
      "Epoch 14/70\n",
      "12/12 [==============================] - 38s 3s/step - loss: 0.5492 - acc: 0.7533 - val_loss: 0.5321 - val_acc: 0.7200\n",
      "Epoch 15/70\n",
      "12/12 [==============================] - 38s 3s/step - loss: 0.5429 - acc: 0.7367 - val_loss: 0.5230 - val_acc: 0.7300\n",
      "Epoch 16/70\n",
      "12/12 [==============================] - 39s 3s/step - loss: 0.5206 - acc: 0.7533 - val_loss: 0.5102 - val_acc: 0.7300\n",
      "Epoch 17/70\n",
      "12/12 [==============================] - 39s 3s/step - loss: 0.5071 - acc: 0.7533 - val_loss: 0.5084 - val_acc: 0.7400\n",
      "Epoch 18/70\n",
      "12/12 [==============================] - 39s 3s/step - loss: 0.5118 - acc: 0.7700 - val_loss: 0.5105 - val_acc: 0.7200\n",
      "Epoch 19/70\n",
      "12/12 [==============================] - 40s 3s/step - loss: 0.4812 - acc: 0.8067 - val_loss: 0.4740 - val_acc: 0.7800\n",
      "Epoch 20/70\n",
      "12/12 [==============================] - 41s 3s/step - loss: 0.4583 - acc: 0.8000 - val_loss: 0.4647 - val_acc: 0.8200\n",
      "Epoch 21/70\n",
      "12/12 [==============================] - 45s 4s/step - loss: 0.4482 - acc: 0.8033 - val_loss: 0.4555 - val_acc: 0.7800\n",
      "Epoch 22/70\n",
      "12/12 [==============================] - 49s 4s/step - loss: 0.4630 - acc: 0.8100 - val_loss: 0.4636 - val_acc: 0.7700\n",
      "Epoch 23/70\n",
      "12/12 [==============================] - 49s 4s/step - loss: 0.4243 - acc: 0.8100 - val_loss: 0.4551 - val_acc: 0.7900\n",
      "Epoch 24/70\n",
      "12/12 [==============================] - 50s 4s/step - loss: 0.4448 - acc: 0.8133 - val_loss: 0.4473 - val_acc: 0.7800\n",
      "Epoch 25/70\n",
      "12/12 [==============================] - 50s 4s/step - loss: 0.4328 - acc: 0.8233 - val_loss: 0.4248 - val_acc: 0.8200\n",
      "Epoch 26/70\n",
      "12/12 [==============================] - 50s 4s/step - loss: 0.3968 - acc: 0.8533 - val_loss: 0.4044 - val_acc: 0.8500\n",
      "Epoch 27/70\n",
      "12/12 [==============================] - 50s 4s/step - loss: 0.3794 - acc: 0.8533 - val_loss: 0.4303 - val_acc: 0.8200\n",
      "Epoch 28/70\n",
      "12/12 [==============================] - 51s 4s/step - loss: 0.3741 - acc: 0.8600 - val_loss: 0.3933 - val_acc: 0.9000\n",
      "Epoch 29/70\n",
      "12/12 [==============================] - 54s 5s/step - loss: 0.3709 - acc: 0.8367 - val_loss: 0.4706 - val_acc: 0.8000\n",
      "Epoch 30/70\n",
      "12/12 [==============================] - 55s 5s/step - loss: 0.3565 - acc: 0.8567 - val_loss: 0.3926 - val_acc: 0.8500\n",
      "Epoch 31/70\n",
      "12/12 [==============================] - 56s 5s/step - loss: 0.3683 - acc: 0.8500 - val_loss: 0.3875 - val_acc: 0.8300\n",
      "Epoch 32/70\n",
      "12/12 [==============================] - 43s 3s/step - loss: 0.3155 - acc: 0.8867 - val_loss: 0.3451 - val_acc: 0.8800\n",
      "Epoch 33/70\n",
      "12/12 [==============================] - 27s 2s/step - loss: 0.3329 - acc: 0.8700 - val_loss: 0.3725 - val_acc: 0.8400\n",
      "Epoch 34/70\n",
      "12/12 [==============================] - 26s 2s/step - loss: 0.3060 - acc: 0.9000 - val_loss: 0.3236 - val_acc: 0.8900\n",
      "Epoch 35/70\n",
      "12/12 [==============================] - 25s 2s/step - loss: 0.2788 - acc: 0.9033 - val_loss: 0.3509 - val_acc: 0.8200\n",
      "Epoch 36/70\n",
      "12/12 [==============================] - 25s 2s/step - loss: 0.2844 - acc: 0.8767 - val_loss: 0.5248 - val_acc: 0.7500\n",
      "Epoch 37/70\n",
      "12/12 [==============================] - 25s 2s/step - loss: 0.3017 - acc: 0.8867 - val_loss: 0.3128 - val_acc: 0.8800\n",
      "Epoch 38/70\n",
      "12/12 [==============================] - 25s 2s/step - loss: 0.3320 - acc: 0.8367 - val_loss: 0.2783 - val_acc: 0.8900\n",
      "Epoch 39/70\n",
      "12/12 [==============================] - 25s 2s/step - loss: 0.2684 - acc: 0.8867 - val_loss: 0.3658 - val_acc: 0.8700\n",
      "Epoch 40/70\n",
      "12/12 [==============================] - 25s 2s/step - loss: 0.2944 - acc: 0.8933 - val_loss: 0.2955 - val_acc: 0.8900\n",
      "Epoch 41/70\n",
      "12/12 [==============================] - 25s 2s/step - loss: 0.2344 - acc: 0.9200 - val_loss: 0.3528 - val_acc: 0.8200\n",
      "Epoch 42/70\n",
      "12/12 [==============================] - 25s 2s/step - loss: 0.2256 - acc: 0.9133 - val_loss: 0.3124 - val_acc: 0.8600\n",
      "Epoch 43/70\n",
      "12/12 [==============================] - 24s 2s/step - loss: 0.2740 - acc: 0.8933 - val_loss: 0.2772 - val_acc: 0.8700\n",
      "Epoch 44/70\n",
      "12/12 [==============================] - 23s 2s/step - loss: 0.2230 - acc: 0.9200 - val_loss: 0.2996 - val_acc: 0.8900\n",
      "Epoch 45/70\n",
      "12/12 [==============================] - 22s 2s/step - loss: 0.2247 - acc: 0.9167 - val_loss: 0.3144 - val_acc: 0.8900\n",
      "Epoch 46/70\n",
      "12/12 [==============================] - 22s 2s/step - loss: 0.2033 - acc: 0.9400 - val_loss: 0.2426 - val_acc: 0.9000\n",
      "Epoch 47/70\n",
      "12/12 [==============================] - 21s 2s/step - loss: 0.2526 - acc: 0.8833 - val_loss: 0.2492 - val_acc: 0.8900\n",
      "Epoch 48/70\n",
      "12/12 [==============================] - 21s 2s/step - loss: 0.2219 - acc: 0.9233 - val_loss: 0.8100 - val_acc: 0.6000\n",
      "Epoch 49/70\n",
      "12/12 [==============================] - 21s 2s/step - loss: 0.2415 - acc: 0.9233 - val_loss: 0.2627 - val_acc: 0.8900\n",
      "Epoch 50/70\n",
      "12/12 [==============================] - 21s 2s/step - loss: 0.1606 - acc: 0.9567 - val_loss: 0.2398 - val_acc: 0.9000\n",
      "Epoch 51/70\n",
      "12/12 [==============================] - 22s 2s/step - loss: 0.1714 - acc: 0.9500 - val_loss: 0.2248 - val_acc: 0.9200\n",
      "Epoch 52/70\n",
      "12/12 [==============================] - 22s 2s/step - loss: 0.1473 - acc: 0.9600 - val_loss: 0.3174 - val_acc: 0.8600\n",
      "Epoch 53/70\n",
      "12/12 [==============================] - 22s 2s/step - loss: 0.1687 - acc: 0.9300 - val_loss: 0.3051 - val_acc: 0.8600\n",
      "Epoch 54/70\n",
      "12/12 [==============================] - 22s 2s/step - loss: 0.1623 - acc: 0.9500 - val_loss: 0.2622 - val_acc: 0.8800\n",
      "Epoch 55/70\n",
      "12/12 [==============================] - 22s 2s/step - loss: 0.1516 - acc: 0.9600 - val_loss: 0.2391 - val_acc: 0.8900\n",
      "Epoch 56/70\n",
      "12/12 [==============================] - 22s 2s/step - loss: 0.1779 - acc: 0.9333 - val_loss: 0.2529 - val_acc: 0.8800\n",
      "Epoch 57/70\n",
      "12/12 [==============================] - 22s 2s/step - loss: 0.1330 - acc: 0.9500 - val_loss: 0.2022 - val_acc: 0.9100\n",
      "Epoch 58/70\n",
      "12/12 [==============================] - 22s 2s/step - loss: 0.1296 - acc: 0.9633 - val_loss: 0.2267 - val_acc: 0.8900\n",
      "Epoch 59/70\n",
      "12/12 [==============================] - 22s 2s/step - loss: 0.1634 - acc: 0.9500 - val_loss: 0.2196 - val_acc: 0.8900\n",
      "Epoch 60/70\n",
      "12/12 [==============================] - 22s 2s/step - loss: 0.1030 - acc: 0.9733 - val_loss: 0.2471 - val_acc: 0.8900\n",
      "Epoch 61/70\n",
      "12/12 [==============================] - 22s 2s/step - loss: 0.1442 - acc: 0.9467 - val_loss: 0.1760 - val_acc: 0.9200\n",
      "Epoch 62/70\n",
      "12/12 [==============================] - 22s 2s/step - loss: 0.1094 - acc: 0.9667 - val_loss: 0.1888 - val_acc: 0.9100\n",
      "Epoch 63/70\n",
      "12/12 [==============================] - 23s 2s/step - loss: 0.1067 - acc: 0.9600 - val_loss: 0.2118 - val_acc: 0.8900\n"
     ]
    },
    {
     "name": "stdout",
     "output_type": "stream",
     "text": [
      "Epoch 64/70\n",
      "12/12 [==============================] - 23s 2s/step - loss: 0.0896 - acc: 0.9800 - val_loss: 0.1875 - val_acc: 0.9200\n",
      "Epoch 65/70\n",
      "12/12 [==============================] - 23s 2s/step - loss: 0.2613 - acc: 0.9167 - val_loss: 0.2411 - val_acc: 0.8800\n",
      "Epoch 66/70\n",
      "12/12 [==============================] - 23s 2s/step - loss: 0.1183 - acc: 0.9700 - val_loss: 0.2081 - val_acc: 0.9200\n",
      "Epoch 67/70\n",
      "12/12 [==============================] - 23s 2s/step - loss: 0.1071 - acc: 0.9700 - val_loss: 0.1628 - val_acc: 0.9100\n",
      "Epoch 68/70\n",
      "12/12 [==============================] - 26s 2s/step - loss: 0.0966 - acc: 0.9800 - val_loss: 0.2084 - val_acc: 0.8900\n",
      "Epoch 69/70\n",
      "12/12 [==============================] - 42s 4s/step - loss: 0.1028 - acc: 0.9700 - val_loss: 0.2580 - val_acc: 0.8900\n",
      "Epoch 70/70\n",
      "12/12 [==============================] - 51s 4s/step - loss: 0.1587 - acc: 0.9367 - val_loss: 0.2375 - val_acc: 0.9000\n"
     ]
    }
   ],
   "source": [
    "#Training the MODEL Feature-Extraction\n",
    "#If performing fine tuning directly would result in a huge gradient, so it's better that we perform 3 epochs of \n",
    "# feature extraction first so that weights of the final fully connected layer aren't completely random. \n",
    "#The intuition for this is that if we don't perform feature-extraction, then the gradient will be too large\n",
    "#and will change the pretrained weights too much.\n",
    "# Enter the number of training and validation samples here\n",
    "nb_train_samples = 300\n",
    "nb_validation_samples = 100\n",
    "\n",
    "# We only train 5 EPOCHS \n",
    "epochs = 70\n",
    "# batch_size = 25\n",
    "\n",
    "r = model.fit(\n",
    "    train_generator,\n",
    "    steps_per_epoch = nb_train_samples // batch_size,\n",
    "    epochs = epochs,\n",
    "    validation_data = validation_generator,\n",
    "    validation_steps = nb_validation_samples // batch_size)"
   ]
  },
  {
   "cell_type": "code",
   "execution_count": 53,
   "id": "402b05ba",
   "metadata": {},
   "outputs": [
    {
     "data": {
      "image/png": "[encoded data removed]",
      "text/plain": [
       "<Figure size 640x480 with 1 Axes>"
      ]
     },
     "metadata": {},
     "output_type": "display_data"
    }
   ],
   "source": [
    "plt.plot(r.history['acc'])\n",
    "plt.plot(r.history['val_acc'])\n",
    "plt.title('model accuracy')\n",
    "plt.ylabel('accuracy')\n",
    "plt.xlabel('epoch')\n",
    "plt.legend(['train', 'validation'], loc='upper left')\n",
    "plt.show()"
   ]
  },
  {
   "cell_type": "code",
   "execution_count": 54,
   "id": "6e50373c",
   "metadata": {},
   "outputs": [
    {
     "data": {
      "image/png": "[encoded data removed]",
      "text/plain": [
       "<Figure size 640x480 with 1 Axes>"
      ]
     },
     "metadata": {},
     "output_type": "display_data"
    }
   ],
   "source": [
    "plt.plot(r.history['loss'])\n",
    "plt.plot(r.history['val_loss'])\n",
    "plt.title('model loss')\n",
    "plt.ylabel('loss')\n",
    "plt.xlabel('epoch')\n",
    "plt.legend(['train', 'test'], loc='upper left')\n",
    "plt.show()"
   ]
  },
  {
   "cell_type": "code",
   "execution_count": null,
   "id": "1798e9d1",
   "metadata": {},
   "outputs": [],
   "source": []
  },
  {
   "cell_type": "code",
   "execution_count": 55,
   "id": "674ff868",
   "metadata": {},
   "outputs": [],
   "source": [
    "model2 = Sequential()\n",
    "for layer in model.layers[:-4]:\n",
    "    model2.add(layer)"
   ]
  },
  {
   "cell_type": "code",
   "execution_count": 56,
   "id": "e53ea8a7",
   "metadata": {},
   "outputs": [
    {
     "name": "stdout",
     "output_type": "stream",
     "text": [
      "(300, 224, 224, 3) (300, 2)\n"
     ]
    }
   ],
   "source": [
    "# training data for SVM Classifier\n",
    "X_train, y_train = next(train_generator)\n",
    "for i in range((300//batch_size) - 1):\n",
    "    img, label = next(train_generator)\n",
    "    X_train = np.append(X_train, img, axis=0 )\n",
    "    y_train = np.append(y_train, label, axis=0)\n",
    "print(X_train.shape, y_train.shape)"
   ]
  },
  {
   "cell_type": "code",
   "execution_count": 57,
   "id": "c9213164",
   "metadata": {},
   "outputs": [
    {
     "name": "stdout",
     "output_type": "stream",
     "text": [
      "(100, 224, 224, 3) (100, 2)\n"
     ]
    }
   ],
   "source": [
    "# validation data for SVM Classifier\n",
    "X_valid, y_valid = next(validation_generator)\n",
    "for i in range((100//batch_size) - 1):\n",
    "    img, label = next(validation_generator)\n",
    "    X_valid = np.append(X_valid, img, axis=0 )\n",
    "    y_valid = np.append(y_valid, label, axis=0)\n",
    "print(X_valid.shape, y_valid.shape)"
   ]
  },
  {
   "cell_type": "code",
   "execution_count": 58,
   "id": "2d110b71",
   "metadata": {},
   "outputs": [],
   "source": [
    "feature_mapping = model2(X_train)"
   ]
  },
  {
   "cell_type": "code",
   "execution_count": 59,
   "id": "b401bbbb",
   "metadata": {},
   "outputs": [
    {
     "data": {
      "text/html": [
       "<style>#sk-container-id-4 {color: black;background-color: white;}#sk-container-id-4 pre{padding: 0;}#sk-container-id-4 div.sk-toggleable {background-color: white;}#sk-container-id-4 label.sk-toggleable__label {cursor: pointer;display: block;width: 100%;margin-bottom: 0;padding: 0.3em;box-sizing: border-box;text-align: center;}#sk-container-id-4 label.sk-toggleable__label-arrow:before {content: \"▸\";float: left;margin-right: 0.25em;color: #696969;}#sk-container-id-4 label.sk-toggleable__label-arrow:hover:before {color: black;}#sk-container-id-4 div.sk-estimator:hover label.sk-toggleable__label-arrow:before {color: black;}#sk-container-id-4 div.sk-toggleable__content {max-height: 0;max-width: 0;overflow: hidden;text-align: left;background-color: #f0f8ff;}#sk-container-id-4 div.sk-toggleable__content pre {margin: 0.2em;color: black;border-radius: 0.25em;background-color: #f0f8ff;}#sk-container-id-4 input.sk-toggleable__control:checked~div.sk-toggleable__content {max-height: 200px;max-width: 100%;overflow: auto;}#sk-container-id-4 input.sk-toggleable__control:checked~label.sk-toggleable__label-arrow:before {content: \"▾\";}#sk-container-id-4 div.sk-estimator input.sk-toggleable__control:checked~label.sk-toggleable__label {background-color: #d4ebff;}#sk-container-id-4 div.sk-label input.sk-toggleable__control:checked~label.sk-toggleable__label {background-color: #d4ebff;}#sk-container-id-4 input.sk-hidden--visually {border: 0;clip: rect(1px 1px 1px 1px);clip: rect(1px, 1px, 1px, 1px);height: 1px;margin: -1px;overflow: hidden;padding: 0;position: absolute;width: 1px;}#sk-container-id-4 div.sk-estimator {font-family: monospace;background-color: #f0f8ff;border: 1px dotted black;border-radius: 0.25em;box-sizing: border-box;margin-bottom: 0.5em;}#sk-container-id-4 div.sk-estimator:hover {background-color: #d4ebff;}#sk-container-id-4 div.sk-parallel-item::after {content: \"\";width: 100%;border-bottom: 1px solid gray;flex-grow: 1;}#sk-container-id-4 div.sk-label:hover label.sk-toggleable__label {background-color: #d4ebff;}#sk-container-id-4 div.sk-serial::before {content: \"\";position: absolute;border-left: 1px solid gray;box-sizing: border-box;top: 0;bottom: 0;left: 50%;z-index: 0;}#sk-container-id-4 div.sk-serial {display: flex;flex-direction: column;align-items: center;background-color: white;padding-right: 0.2em;padding-left: 0.2em;position: relative;}#sk-container-id-4 div.sk-item {position: relative;z-index: 1;}#sk-container-id-4 div.sk-parallel {display: flex;align-items: stretch;justify-content: center;background-color: white;position: relative;}#sk-container-id-4 div.sk-item::before, #sk-container-id-4 div.sk-parallel-item::before {content: \"\";position: absolute;border-left: 1px solid gray;box-sizing: border-box;top: 0;bottom: 0;left: 50%;z-index: -1;}#sk-container-id-4 div.sk-parallel-item {display: flex;flex-direction: column;z-index: 1;position: relative;background-color: white;}#sk-container-id-4 div.sk-parallel-item:first-child::after {align-self: flex-end;width: 50%;}#sk-container-id-4 div.sk-parallel-item:last-child::after {align-self: flex-start;width: 50%;}#sk-container-id-4 div.sk-parallel-item:only-child::after {width: 0;}#sk-container-id-4 div.sk-dashed-wrapped {border: 1px dashed gray;margin: 0 0.4em 0.5em 0.4em;box-sizing: border-box;padding-bottom: 0.4em;background-color: white;}#sk-container-id-4 div.sk-label label {font-family: monospace;font-weight: bold;display: inline-block;line-height: 1.2em;}#sk-container-id-4 div.sk-label-container {text-align: center;}#sk-container-id-4 div.sk-container {/* jupyter's `normalize.less` sets `[hidden] { display: none; }` but bootstrap.min.css set `[hidden] { display: none !important; }` so we also need the `!important` here to be able to override the default hidden behavior on the sphinx rendered scikit-learn.org. See: https://github.com/scikit-learn/scikit-learn/issues/21755 */display: inline-block !important;position: relative;}#sk-container-id-4 div.sk-text-repr-fallback {display: none;}</style><div id=\"sk-container-id-4\" class=\"sk-top-container\"><div class=\"sk-text-repr-fallback\"><pre>SVC()</pre><b>In a Jupyter environment, please rerun this cell to show the HTML representation or trust the notebook. <br />On GitHub, the HTML representation is unable to render, please try loading this page with nbviewer.org.</b></div><div class=\"sk-container\" hidden><div class=\"sk-item\"><div class=\"sk-estimator sk-toggleable\"><input class=\"sk-toggleable__control sk-hidden--visually\" id=\"sk-estimator-id-4\" type=\"checkbox\" checked><label for=\"sk-estimator-id-4\" class=\"sk-toggleable__label sk-toggleable__label-arrow\">SVC</label><div class=\"sk-toggleable__content\"><pre>SVC()</pre></div></div></div></div></div>"
      ],
      "text/plain": [
       "SVC()"
      ]
     },
     "execution_count": 59,
     "metadata": {},
     "output_type": "execute_result"
    }
   ],
   "source": [
    "clf = svm.SVC()\n",
    "\n",
    "lenofimageT = len(X_train)\n",
    "feature_mapping2 = np.array(feature_mapping).reshape(lenofimageT, -1)\n",
    "clf.fit(feature_mapping2, y_train.argmax(axis=1))"
   ]
  },
  {
   "cell_type": "code",
   "execution_count": 60,
   "id": "165aef71",
   "metadata": {},
   "outputs": [],
   "source": [
    "features = model2(X_valid)\n",
    "lenofimageV = len(X_valid)\n",
    "features2 = np.array(features).reshape(lenofimageV, -1)\n",
    "\n",
    "\n"
   ]
  },
  {
   "cell_type": "code",
   "execution_count": 61,
   "id": "cffe8001",
   "metadata": {},
   "outputs": [],
   "source": [
    "predictionSVM = clf.predict(features2)"
   ]
  },
  {
   "cell_type": "code",
   "execution_count": 62,
   "id": "94da2031",
   "metadata": {},
   "outputs": [
    {
     "name": "stdout",
     "output_type": "stream",
     "text": [
      "Accuracy = 0.88\n",
      "Recall = 0.8653846153846154\n",
      "Precision = 0.9\n"
     ]
    },
    {
     "data": {
      "image/png": "[encoded data removed]",
      "text/plain": [
       "<Figure size 640x480 with 2 Axes>"
      ]
     },
     "metadata": {},
     "output_type": "display_data"
    }
   ],
   "source": [
    "cm = confusion_matrix(y_valid.argmax(axis=1), predictionSVM)\n",
    "sns.heatmap(cm, annot = True) \n",
    "tp, fp, fn, tn = cm.ravel()\n",
    "\n",
    "recall = tp/(tp+fn)\n",
    "precision = tp/(tp+fp)\n",
    "\n",
    "print('Accuracy =', metrics.accuracy_score(y_valid.argmax(axis=1), predictionSVM))\n",
    "print(\"Recall =\", recall)\n",
    "print(\"Precision =\", precision)"
   ]
  },
  {
   "cell_type": "code",
   "execution_count": null,
   "id": "005c949f",
   "metadata": {},
   "outputs": [],
   "source": []
  },
  {
   "cell_type": "code",
   "execution_count": null,
   "id": "7bc1b631",
   "metadata": {},
   "outputs": [],
   "source": []
  },
  {
   "cell_type": "markdown",
   "id": "02a281c9",
   "metadata": {},
   "source": [
    "Random Forest"
   ]
  },
  {
   "cell_type": "code",
   "execution_count": 27,
   "id": "1dcad190",
   "metadata": {},
   "outputs": [],
   "source": [
    "model3 = Sequential()\n",
    "for layer in model.layers[:-4]:\n",
    "    model3.add(layer)"
   ]
  },
  {
   "cell_type": "code",
   "execution_count": 28,
   "id": "ea9155f2",
   "metadata": {},
   "outputs": [],
   "source": [
    "feature_mapping = model3(X_train)\n",
    "clf = RandomForestClassifier(n_estimators=100)"
   ]
  },
  {
   "cell_type": "code",
   "execution_count": 29,
   "id": "dccf5494",
   "metadata": {},
   "outputs": [
    {
     "data": {
      "text/html": [
       "<style>#sk-container-id-3 {color: black;background-color: white;}#sk-container-id-3 pre{padding: 0;}#sk-container-id-3 div.sk-toggleable {background-color: white;}#sk-container-id-3 label.sk-toggleable__label {cursor: pointer;display: block;width: 100%;margin-bottom: 0;padding: 0.3em;box-sizing: border-box;text-align: center;}#sk-container-id-3 label.sk-toggleable__label-arrow:before {content: \"▸\";float: left;margin-right: 0.25em;color: #696969;}#sk-container-id-3 label.sk-toggleable__label-arrow:hover:before {color: black;}#sk-container-id-3 div.sk-estimator:hover label.sk-toggleable__label-arrow:before {color: black;}#sk-container-id-3 div.sk-toggleable__content {max-height: 0;max-width: 0;overflow: hidden;text-align: left;background-color: #f0f8ff;}#sk-container-id-3 div.sk-toggleable__content pre {margin: 0.2em;color: black;border-radius: 0.25em;background-color: #f0f8ff;}#sk-container-id-3 input.sk-toggleable__control:checked~div.sk-toggleable__content {max-height: 200px;max-width: 100%;overflow: auto;}#sk-container-id-3 input.sk-toggleable__control:checked~label.sk-toggleable__label-arrow:before {content: \"▾\";}#sk-container-id-3 div.sk-estimator input.sk-toggleable__control:checked~label.sk-toggleable__label {background-color: #d4ebff;}#sk-container-id-3 div.sk-label input.sk-toggleable__control:checked~label.sk-toggleable__label {background-color: #d4ebff;}#sk-container-id-3 input.sk-hidden--visually {border: 0;clip: rect(1px 1px 1px 1px);clip: rect(1px, 1px, 1px, 1px);height: 1px;margin: -1px;overflow: hidden;padding: 0;position: absolute;width: 1px;}#sk-container-id-3 div.sk-estimator {font-family: monospace;background-color: #f0f8ff;border: 1px dotted black;border-radius: 0.25em;box-sizing: border-box;margin-bottom: 0.5em;}#sk-container-id-3 div.sk-estimator:hover {background-color: #d4ebff;}#sk-container-id-3 div.sk-parallel-item::after {content: \"\";width: 100%;border-bottom: 1px solid gray;flex-grow: 1;}#sk-container-id-3 div.sk-label:hover label.sk-toggleable__label {background-color: #d4ebff;}#sk-container-id-3 div.sk-serial::before {content: \"\";position: absolute;border-left: 1px solid gray;box-sizing: border-box;top: 0;bottom: 0;left: 50%;z-index: 0;}#sk-container-id-3 div.sk-serial {display: flex;flex-direction: column;align-items: center;background-color: white;padding-right: 0.2em;padding-left: 0.2em;position: relative;}#sk-container-id-3 div.sk-item {position: relative;z-index: 1;}#sk-container-id-3 div.sk-parallel {display: flex;align-items: stretch;justify-content: center;background-color: white;position: relative;}#sk-container-id-3 div.sk-item::before, #sk-container-id-3 div.sk-parallel-item::before {content: \"\";position: absolute;border-left: 1px solid gray;box-sizing: border-box;top: 0;bottom: 0;left: 50%;z-index: -1;}#sk-container-id-3 div.sk-parallel-item {display: flex;flex-direction: column;z-index: 1;position: relative;background-color: white;}#sk-container-id-3 div.sk-parallel-item:first-child::after {align-self: flex-end;width: 50%;}#sk-container-id-3 div.sk-parallel-item:last-child::after {align-self: flex-start;width: 50%;}#sk-container-id-3 div.sk-parallel-item:only-child::after {width: 0;}#sk-container-id-3 div.sk-dashed-wrapped {border: 1px dashed gray;margin: 0 0.4em 0.5em 0.4em;box-sizing: border-box;padding-bottom: 0.4em;background-color: white;}#sk-container-id-3 div.sk-label label {font-family: monospace;font-weight: bold;display: inline-block;line-height: 1.2em;}#sk-container-id-3 div.sk-label-container {text-align: center;}#sk-container-id-3 div.sk-container {/* jupyter's `normalize.less` sets `[hidden] { display: none; }` but bootstrap.min.css set `[hidden] { display: none !important; }` so we also need the `!important` here to be able to override the default hidden behavior on the sphinx rendered scikit-learn.org. See: https://github.com/scikit-learn/scikit-learn/issues/21755 */display: inline-block !important;position: relative;}#sk-container-id-3 div.sk-text-repr-fallback {display: none;}</style><div id=\"sk-container-id-3\" class=\"sk-top-container\"><div class=\"sk-text-repr-fallback\"><pre>RandomForestClassifier()</pre><b>In a Jupyter environment, please rerun this cell to show the HTML representation or trust the notebook. <br />On GitHub, the HTML representation is unable to render, please try loading this page with nbviewer.org.</b></div><div class=\"sk-container\" hidden><div class=\"sk-item\"><div class=\"sk-estimator sk-toggleable\"><input class=\"sk-toggleable__control sk-hidden--visually\" id=\"sk-estimator-id-3\" type=\"checkbox\" checked><label for=\"sk-estimator-id-3\" class=\"sk-toggleable__label sk-toggleable__label-arrow\">RandomForestClassifier</label><div class=\"sk-toggleable__content\"><pre>RandomForestClassifier()</pre></div></div></div></div></div>"
      ],
      "text/plain": [
       "RandomForestClassifier()"
      ]
     },
     "execution_count": 29,
     "metadata": {},
     "output_type": "execute_result"
    }
   ],
   "source": [
    "lenofimageT = len(X_train)\n",
    "feature_mapping2 = np.array(feature_mapping).reshape(lenofimageT, -1)\n",
    "clf.fit(feature_mapping2, y_train.argmax(axis=1))"
   ]
  },
  {
   "cell_type": "code",
   "execution_count": 30,
   "id": "3c9a98d2",
   "metadata": {},
   "outputs": [],
   "source": [
    "features = model2(X_valid)\n",
    "lenofimageV = len(X_valid)\n",
    "features2 = np.array(features).reshape(lenofimageV, -1)"
   ]
  },
  {
   "cell_type": "code",
   "execution_count": 33,
   "id": "b492975c",
   "metadata": {},
   "outputs": [],
   "source": [
    "predictionRF = clf.predict(features2)"
   ]
  },
  {
   "cell_type": "code",
   "execution_count": 36,
   "id": "8cf76d02",
   "metadata": {},
   "outputs": [
    {
     "name": "stdout",
     "output_type": "stream",
     "text": [
      "Accuracy = 0.82\n",
      "Recall = 0.8809523809523809\n",
      "Precision = 0.74\n"
     ]
    },
    {
     "data": {
      "image/png": "[encoded data removed]",
      "text/plain": [
       "<Figure size 640x480 with 2 Axes>"
      ]
     },
     "metadata": {},
     "output_type": "display_data"
    }
   ],
   "source": [
    "cm = confusion_matrix(y_valid.argmax(axis=1), predictionRF)\n",
    "sns.heatmap(cm, annot = True) \n",
    "tp, fp, fn, tn = cm.ravel()\n",
    "\n",
    "recall = tp/(tp+fn)\n",
    "precision = tp/(tp+fp)\n",
    "\n",
    "print('Accuracy =', metrics.accuracy_score(y_valid.argmax(axis=1), predictionRF))\n",
    "print(\"Recall =\", recall)\n",
    "print(\"Precision =\", precision)"
   ]
  },
  {
   "cell_type": "code",
   "execution_count": 63,
   "id": "e594fc34",
   "metadata": {},
   "outputs": [],
   "source": [
    "df1 = pd.DataFrame(r.history['acc']) \n",
    "df2 = pd.DataFrame(r.history['val_acc'])\n",
    "df3 = pd.DataFrame(r.history['loss'])\n",
    "df4 = pd.DataFrame(r.history['val_loss'])\n",
    "\n",
    "\n",
    "\n",
    "df1.to_csv('bt_acc1.csv', header = False)\n",
    "df2.to_csv('bt_Vacc1.csv', header = False)\n",
    "df3.to_csv('bt_loss1.csv', header = False)\n",
    "df4.to_csv('bt_Vloss1.csv', header = False)"
   ]
  },
  {
   "cell_type": "code",
   "execution_count": null,
   "id": "64a4a077",
   "metadata": {},
   "outputs": [],
   "source": []
  }
 ],
 "metadata": {
  "kernelspec": {
   "display_name": "Python 3 (ipykernel)",
   "language": "python",
   "name": "python3"
  },
  "language_info": {
   "codemirror_mode": {
    "name": "ipython",
    "version": 3
   },
   "file_extension": ".py",
   "mimetype": "text/x-python",
   "name": "python",
   "nbconvert_exporter": "python",
   "pygments_lexer": "ipython3",
   "version": "3.10.6"
  }
 },
 "nbformat": 4,
 "nbformat_minor": 5
}
